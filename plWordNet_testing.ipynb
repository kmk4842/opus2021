{
 "cells": [
  {
   "cell_type": "markdown",
   "id": "alien-consequence",
   "metadata": {},
   "source": [
    "# Learning cross-language mapping via WordNets"
   ]
  },
  {
   "cell_type": "markdown",
   "id": "wound-bicycle",
   "metadata": {},
   "source": [
    "Download [Open Multilingual Wordnet](http://compling.hss.ntu.edu.sg/omw/), or omw for short."
   ]
  },
  {
   "cell_type": "code",
   "execution_count": 4,
   "id": "smaller-cannon",
   "metadata": {},
   "outputs": [
    {
     "name": "stderr",
     "output_type": "stream",
     "text": [
      "[nltk_data] Downloading package omw to C:\\Users\\Karol\n",
      "[nltk_data]     Klimczak/nltk_data...\n",
      "[nltk_data]   Package omw is already up-to-date!\n"
     ]
    },
    {
     "data": {
      "text/plain": [
       "True"
      ]
     },
     "execution_count": 4,
     "metadata": {},
     "output_type": "execute_result"
    }
   ],
   "source": [
    "from nltk.corpus import wordnet as wn\n",
    "import nltk\n",
    "nltk.download('omw')"
   ]
  },
  {
   "cell_type": "markdown",
   "id": "removable-generator",
   "metadata": {},
   "source": [
    "Check synsets for lemma \"zysk\" in the Polish language, using [NLTK WordNet Interface](https://www.nltk.org/howto/wordnet.html)."
   ]
  },
  {
   "cell_type": "code",
   "execution_count": 7,
   "id": "excellent-knowing",
   "metadata": {},
   "outputs": [
    {
     "name": "stdout",
     "output_type": "stream",
     "text": [
      "Synset for zysk: [Synset('profit.n.02')]\n",
      "Polish lemmas for the first synset:['beneficjum', 'interes', 'korzyść', 'pożytek', 'profit', 'zysk']\n"
     ]
    }
   ],
   "source": [
    "gain_synsets=wn.synsets(\"zysk\", lang=\"pol\")\n",
    "print(\"Synset for zysk: \" + str(gain_synsets))\n",
    "print(\"Polish lemmas for the first synset:\" + str([lemma.name() for lemma in gain_synsets[0].lemmas(lang=\"pol\")]))"
   ]
  },
  {
   "cell_type": "markdown",
   "id": "private-inclusion",
   "metadata": {},
   "source": [
    "__Be aware__ that OMW does not support the newest versions of [plWordNet](http://plwordnet.pwr.wroc.pl/wordnet/). You need their [pypi](http://pypi.clarin-pl.eu/) for that. In the example above, the new plWordNet contains two synsets for \"zysk\", one for economics, the other for general meaning."
   ]
  },
  {
   "cell_type": "code",
   "execution_count": null,
   "id": "protected-diary",
   "metadata": {},
   "outputs": [],
   "source": []
  }
 ],
 "metadata": {
  "kernelspec": {
   "display_name": "Python 3",
   "language": "python",
   "name": "python3"
  },
  "language_info": {
   "codemirror_mode": {
    "name": "ipython",
    "version": 3
   },
   "file_extension": ".py",
   "mimetype": "text/x-python",
   "name": "python",
   "nbconvert_exporter": "python",
   "pygments_lexer": "ipython3",
   "version": "3.8.5"
  }
 },
 "nbformat": 4,
 "nbformat_minor": 5
}
